{
  "cells": [
    {
      "cell_type": "code",
      "metadata": {
        "id": "5GBIZ7xbkqwK",
        "ExecuteTime": {
          "end_time": "2025-01-25T08:23:28.004068Z",
          "start_time": "2025-01-25T08:23:20.742819Z"
        }
      },
      "source": [
        "import tensorflow as tf\n",
        "\n",
        "from tensorflow.keras import Sequential, models, layers # type: ignore\n",
        "from tensorflow.keras.applications import ResNet50, ResNet101,VGG16,VGG19,DenseNet201,DenseNet121,DenseNet169,ResNet152 # type: ignore\n",
        "from tensorflow.keras.applications import ResNet152,ResNet50V2,ResNet101V2,Xception, InceptionV3, InceptionResNetV2, MobileNet,MobileNetV2 # type: ignore\n",
        "from tensorflow.keras.applications import MobileNetV3Small,MobileNetV3Large,NASNetMobile,NASNetLarge, EfficientNetB0 # type: ignore\n",
        "from tensorflow.keras.applications import EfficientNetB1,EfficientNetB7,ConvNeXtTiny,ConvNeXtSmall, ConvNeXtBase, ConvNeXtLarge # type: ignore\n",
        "from tensorflow.keras.layers import GlobalAveragePooling2D, Dense, Dropout # type: ignore\n",
        "from tensorflow.keras.models import Model # type: ignore\n",
        "import numpy as np\n",
        "import cv2\n",
        "from tensorflow.keras.preprocessing.image import ImageDataGenerator # type: ignore\n",
        "import matplotlib.pyplot as plt\n",
        "\n",
        "from tensorflow.keras.layers import MultiHeadAttention # type: ignore"
      ],
      "outputs": [],
      "execution_count": 1
    },
    {
      "cell_type": "code",
      "metadata": {
        "id": "6OZajuir26XG",
        "colab": {
          "base_uri": "https://localhost:8080/"
        },
        "outputId": "c484681f-d183-4635-ff6a-05e1b48d674c"
      },
      "source": [
        "print(\"TensorFlow version:\", tf.__version__)\n",
        "import sys\n",
        "print(\"Python version:\", sys.version)\n",
        "import keras\n",
        "print(keras.__version__)\n"
      ],
      "outputs": [
        {
          "output_type": "stream",
          "name": "stdout",
          "text": [
            "TensorFlow version: 2.19.0\n",
            "Python version: 3.12.11 (main, Jun  4 2025, 08:56:18) [GCC 11.4.0]\n",
            "3.10.0\n"
          ]
        }
      ],
      "execution_count": 2
    },
    {
      "cell_type": "code",
      "metadata": {
        "colab": {
          "base_uri": "https://localhost:8080/"
        },
        "id": "n8GhFYeXicEx",
        "outputId": "ac3ab61f-9f29-4eef-a704-7315f60b1abe"
      },
      "source": [
        "from google.colab import drive\n",
        "drive.mount('/content/drive')"
      ],
      "outputs": [
        {
          "output_type": "stream",
          "name": "stdout",
          "text": [
            "Mounted at /content/drive\n"
          ]
        }
      ],
      "execution_count": 3
    },
    {
      "cell_type": "code",
      "metadata": {
        "colab": {
          "base_uri": "https://localhost:8080/"
        },
        "id": "0oXlxcxLlA7L",
        "outputId": "5fbbd1ed-91b4-4f09-a64a-2643293f1485",
        "ExecuteTime": {
          "end_time": "2025-01-25T08:26:21.276699Z",
          "start_time": "2025-01-25T08:26:18.243144Z"
        }
      },
      "source": [
        "data = np.load('/content/drive/MyDrive/datasetWithoutCLAHE_TrainAndTest.npz')\n",
        "\n",
        "train_images = data['train_images']\n",
        "train_labels = data['train_labels']\n",
        "# val_images = data['val_images']\n",
        "# val_labels = data['val_labels']\n",
        "test_images = data['test_images']\n",
        "test_labels = data['test_labels']\n",
        "\n",
        "print(\"Data loaded successfully!\")\n"
      ],
      "outputs": [
        {
          "output_type": "stream",
          "name": "stdout",
          "text": [
            "Data loaded successfully!\n"
          ]
        }
      ],
      "execution_count": 4
    },
    {
      "cell_type": "code",
      "metadata": {
        "id": "0bGp32QvKlIg",
        "ExecuteTime": {
          "end_time": "2025-01-25T08:26:25.421666Z",
          "start_time": "2025-01-25T08:26:23.041571Z"
        }
      },
      "source": [
        "\n",
        "def resize_image(image):\n",
        "    image = tf.image.resize(image, [224, 224]) # default input size for the model\n",
        "    return image\n",
        "\n",
        "def normalize_images(image):\n",
        "    image = tf.cast(image, tf.float32)\n",
        "    image = image / 255.0  # Normalize to [0, 1] range\n",
        "    return image\n",
        "\n",
        "# Function to augment the image\n",
        "def augment_image(image):\n",
        "\n",
        "    image = tf.image.flip_left_right(image)\n",
        "    image = tf.image.flip_up_down(image)\n",
        "    image = tf.image.rot90(image, k=tf.random.uniform(shape=[], minval=0, maxval=4, dtype=tf.int32))   # Randomly rotate the image\n",
        "    image = tf.image.random_brightness(image, max_delta=0.1)  # Randomly adjust brightness\n",
        "    image = tf.image.random_contrast(image, lower=0.8, upper=1.2)  # Randomly adjust contrast\n",
        "    image = tf.image.resize_with_crop_or_pad(image, 266, 266)  # Zoom in slightly\n",
        "    image = tf.image.random_crop(image, size=[256, 256, 3])\n",
        "\n",
        "    # Clip the image to ensure values are in the range [0, 1]\n",
        "    image = tf.clip_by_value(image, clip_value_min=0.0, clip_value_max=1.0)\n",
        "\n",
        "    return image\n",
        "\n",
        "def load_and_preprocess_image(image, label, data_augmentation=True):\n",
        "\n",
        "    image = normalize_images(image)\n",
        "\n",
        "    if data_augmentation:\n",
        "        image = augment_image(image)\n",
        "\n",
        "    image = resize_image(image)# resize the image\n",
        "\n",
        "    return image, label\n",
        "\n",
        "train_dataset = tf.data.Dataset.from_tensor_slices( (train_images , train_labels) )\n",
        "train_dataset = train_dataset.map(lambda x, y: load_and_preprocess_image(x, y, data_augmentation=True), num_parallel_calls=tf.data.AUTOTUNE)\n",
        "\n",
        "test_dataset = tf.data.Dataset.from_tensor_slices( (test_images , test_labels) )\n",
        "test_dataset = test_dataset.map(lambda x, y: load_and_preprocess_image(x, y, data_augmentation=False), num_parallel_calls=tf.data.AUTOTUNE)\n",
        "\n",
        "batch_size=32  # Specify your desired batch size here\n",
        "classes=4\n",
        "\n",
        "train_dataset = train_dataset.batch(batch_size)\n",
        "train_dataset = train_dataset.prefetch(buffer_size= tf.data.AUTOTUNE)\n",
        "train_dataset = train_dataset.shuffle(buffer_size=batch_size*100)  # Shuffle with buffer size\n",
        "\n",
        "test_dataset = test_dataset.batch(batch_size)\n",
        "test_dataset = test_dataset.prefetch(buffer_size=tf.data.AUTOTUNE)"
      ],
      "outputs": [],
      "execution_count": 5
    },
    {
      "cell_type": "markdown",
      "metadata": {
        "id": "CvK0Z1Evkfo_"
      },
      "source": [
        "\n",
        "\n",
        "## **Image** Data Generator (Not used)"
      ]
    },
    {
      "cell_type": "code",
      "metadata": {
        "id": "EGTqJtx49nRE"
      },
      "source": [
        "# Desired target size\n",
        "target_size = (224, 224)\n",
        "bs=32\n",
        "classes=4\n",
        "\n",
        "# Resize training and testing images\n",
        "train_images = tf.image.resize(train_images, target_size)\n",
        "test_images = tf.image.resize(test_images, target_size)"
      ],
      "outputs": [],
      "execution_count": null
    },
    {
      "cell_type": "code",
      "metadata": {
        "id": "y7X_2Trz9nRF"
      },
      "source": [
        "# Define the data augmentation parameters\n",
        "train_datagen = ImageDataGenerator(\n",
        "    rescale=1./255,\n",
        "    rotation_range=20,\n",
        "    width_shift_range=0.1,\n",
        "    height_shift_range=0.1,\n",
        "    shear_range=0.2,\n",
        "    zoom_range=0.2,\n",
        "    horizontal_flip=True,\n",
        "    vertical_flip=True,\n",
        "    fill_mode='nearest'\n",
        ")\n",
        "\n",
        "val_datagen = ImageDataGenerator(rescale=1./255)"
      ],
      "outputs": [],
      "execution_count": null
    },
    {
      "cell_type": "code",
      "metadata": {
        "id": "WdKKPyYO9nRF"
      },
      "source": [
        "# Load the training and validation datasets\n",
        "train_dataset = train_datagen.flow(\n",
        "    train_images, train_labels,\n",
        "    batch_size=bs,\n",
        "    shuffle=True  # Shuffle training data\n",
        "\n",
        ")\n",
        "\n",
        "test_dataset = val_datagen.flow(\n",
        "    test_images, test_labels,\n",
        "    batch_size=bs\n",
        ")"
      ],
      "outputs": [],
      "execution_count": null
    },
    {
      "cell_type": "markdown",
      "metadata": {
        "id": "TMWS28JtiaWl"
      },
      "source": [
        "**End of Data Generator** ==============================="
      ]
    },
    {
      "cell_type": "code",
      "metadata": {
        "id": "ZrO6Vp9JmKNc",
        "ExecuteTime": {
          "end_time": "2025-01-25T08:26:44.255537Z",
          "start_time": "2025-01-25T08:26:39.798965Z"
        },
        "colab": {
          "base_uri": "https://localhost:8080/"
        },
        "outputId": "635c1fe3-ba6d-431d-dff0-5b58473c9d56"
      },
      "source": [
        "# Load DenseNet121 with pre-trained weights, exclude the top layers\n",
        "base_model = DenseNet169(\n",
        "    weights='imagenet',\n",
        "    include_top=False,\n",
        "    input_shape=(224, 224, 3)\n",
        ")\n",
        "# Freeze the base model to prevent retraining\n",
        "base_model.trainable = False"
      ],
      "outputs": [
        {
          "output_type": "stream",
          "name": "stdout",
          "text": [
            "Downloading data from https://storage.googleapis.com/tensorflow/keras-applications/densenet/densenet169_weights_tf_dim_ordering_tf_kernels_notop.h5\n",
            "\u001b[1m51877672/51877672\u001b[0m \u001b[32m━━━━━━━━━━━━━━━━━━━━\u001b[0m\u001b[37m\u001b[0m \u001b[1m4s\u001b[0m 0us/step\n"
          ]
        }
      ],
      "execution_count": 6
    },
    {
      "cell_type": "markdown",
      "source": [
        "Single Model"
      ],
      "metadata": {
        "id": "4RvE9uWNez1k"
      }
    },
    {
      "cell_type": "code",
      "source": [
        "model = models.Sequential()\n",
        "\n",
        "model.add(base_model)\n",
        "model.add(layers.Flatten())\n",
        "model.add(layers.BatchNormalization())\n",
        "model.add(layers.Dense(128, activation='relu'))\n",
        "model.add(layers.Dropout(0.2))\n",
        "model.add(layers.BatchNormalization())\n",
        "model.add(layers.Dense(64, activation='relu'))\n",
        "model.add(layers.Dropout(0.2))\n",
        "model.add(layers.BatchNormalization())\n",
        "model.add(layers.Dense(4, activation='softmax'))\n",
        "\n",
        "\n"
      ],
      "metadata": {
        "id": "6mv1cBjRe0Ri"
      },
      "execution_count": 7,
      "outputs": []
    },
    {
      "cell_type": "code",
      "metadata": {
        "id": "7NGNfROXqn6R",
        "ExecuteTime": {
          "end_time": "2025-01-25T08:26:55.022104Z",
          "start_time": "2025-01-25T08:26:54.997550Z"
        }
      },
      "source": [
        "# Define the callbacks\n",
        "early_stopping = tf.keras.callbacks.EarlyStopping(\n",
        "    monitor='val_accuracy',  # Monitoring validation accuracy\n",
        "    patience=5,  # Number of epochs with no improvement after which training will be stopped\n",
        "    verbose=1,\n",
        "    mode='max',  # Stops training when the quantity monitored has stopped increasing\n",
        "    restore_best_weights=True  # Restores model weights from the epoch with the best value of the monitored quantity)\n",
        ")\n",
        "\n",
        "model_checkpoint = tf.keras.callbacks.ModelCheckpoint(\n",
        "    filepath='/content/drive/MyDrive/DenseNet169/epoch_{epoch:02d}.weights.h5',  # Save file with epoch number\n",
        "    monitor='val_accuracy',\n",
        "    verbose=1,\n",
        "    save_weights_only=True,\n",
        "    save_best_only=True\n",
        ")\n",
        "\n",
        "# Add callbacks to the fit method\n",
        "callbacks = [early_stopping, model_checkpoint]\n"
      ],
      "outputs": [],
      "execution_count": null
    },
    {
      "cell_type": "code",
      "metadata": {
        "id": "CcrP4Or4qp7A",
        "ExecuteTime": {
          "end_time": "2025-01-25T08:28:25.038591Z",
          "start_time": "2025-01-25T08:28:22.441222Z"
        }
      },
      "source": [
        "input_shape = (224, 224, 3)  # Modify as per your model's input dimensions\n",
        "model.build(input_shape=(None, *input_shape))\n",
        "# Assuming you have defined your model architecture as `model`\n",
        "try:\n",
        "    model.load_weights('/content/drive/MyDrive/epoch_50_AC0.9357_V0.9318.weights.h5')\n",
        "except ValueError as e:\n",
        "    print(f\"Error loading weights: {e}\")\n"
      ],
      "outputs": [],
      "execution_count": 8
    },
    {
      "cell_type": "code",
      "metadata": {
        "id": "I0DTyzvPsSrZ",
        "ExecuteTime": {
          "end_time": "2025-01-25T08:28:30.324880Z",
          "start_time": "2025-01-25T08:28:30.101711Z"
        }
      },
      "source": [
        "from tensorflow.keras.optimizers import Adam,SGD # type: ignore\n",
        "\n",
        "optimizer = Adam(learning_rate=0.00001)  # Try a lower value like 0.00001 or higher like 0.001\n",
        "\n",
        "model.compile(optimizer=optimizer,\n",
        "              loss='sparse_categorical_crossentropy',\n",
        "              metrics=['accuracy'])"
      ],
      "outputs": [],
      "execution_count": 9
    },
    {
      "cell_type": "code",
      "metadata": {
        "id": "G61Dn3umsbnP"
      },
      "source": [
        "# Continue training for the remaining epochs\n",
        "history = model.fit(\n",
        "    train_dataset,\n",
        "    validation_data=test_dataset,\n",
        "    initial_epoch=1,  # Set this to the epoch number you finished on\n",
        "    epochs=30,  # Continue for the total desired epochs\n",
        "    callbacks=[model_checkpoint, early_stopping]\n",
        ")\n",
        "\n"
      ],
      "outputs": [],
      "execution_count": null
    },
    {
      "cell_type": "code",
      "metadata": {
        "id": "C01RfPIUM7ol"
      },
      "source": [
        "# Plot training & validation accuracy values\n",
        "plt.figure(figsize=(13,5))\n",
        "plt.plot(history.history['accuracy'], color=\"#E74C3C\", marker='o')\n",
        "plt.plot(history.history['val_accuracy'], color='#641E16', marker='h')\n",
        "plt.title('Model accuracy')\n",
        "plt.ylabel('Accuracy')\n",
        "plt.xlabel('Epoch')\n",
        "plt.legend(['Train', 'Validation'], loc='upper left')\n",
        "plt.grid(True)\n",
        "#plt.savefig('C:/Users/PC_I/OneDrive/Desktop/accuracy_plot.png')  # Save the accuracy plot as a PNG file\n",
        "plt.show()\n",
        "\n",
        "# Plot training & validation loss values\n",
        "plt.figure(figsize=(13,5))\n",
        "plt.plot(history.history['loss'], color=\"#E74C3C\", marker='o')\n",
        "plt.plot(history.history['val_loss'], color='#641E16', marker='h')\n",
        "plt.title('Model loss')\n",
        "plt.ylabel('Loss')\n",
        "plt.xlabel('Epoch')\n",
        "plt.legend(['Train', 'Validation'], loc='upper left')\n",
        "plt.grid(True)\n",
        "#plt.savefig('C:/Users/PC_I/OneDrive/Desktop/loss_plot.png')  # Save the loss plot as a PNG file\n",
        "plt.show()\n"
      ],
      "outputs": [],
      "execution_count": null
    },
    {
      "cell_type": "code",
      "metadata": {
        "colab": {
          "base_uri": "https://localhost:8080/"
        },
        "id": "p4R-lMsqMabd",
        "outputId": "5bf1f9ac-bb7f-4e2c-cab7-fd176357e860",
        "ExecuteTime": {
          "end_time": "2025-01-25T08:30:49.291044Z",
          "start_time": "2025-01-25T08:30:45.052399Z"
        }
      },
      "source": [
        "# model.save('C:/Users/PC_I/OneDrive/Desktop//epoch_17_AC0.9728_V0.9299ModelwithCompile.h5')\n",
        "# model.save('C:/Users/PC_I/OneDrive/Desktop//epoch_17_AC0.9728_V0.9299ModelwithCompile.keras')\n",
        "model.save('/content/drive/MyDrive/my_model.keras')"
      ],
      "outputs": [
        {
          "name": "stderr",
          "output_type": "stream",
          "text": [
            "WARNING:absl:You are saving your model as an HDF5 file via `model.save()` or `keras.saving.save_model(model)`. This file format is considered legacy. We recommend using instead the native Keras format, e.g. `model.save('my_model.keras')` or `keras.saving.save_model(model, 'my_model.keras')`. \n"
          ]
        }
      ],
      "execution_count": null
    },
    {
      "cell_type": "code",
      "metadata": {
        "id": "mjxlGxMW3odu"
      },
      "source": [
        "\n",
        "# Path to the saved .h5 model\n",
        "#model_path = '/content/drive/MyDrive/BestOverlapModelA9728V9299 (1).h5'\n",
        "model_path = '/content/drive/MyDrive/epoch_44_AC0.9600_V0.9223.weights.h5'\n",
        "\n",
        "# Load the model\n",
        "model = tf.keras.models.load_model(model_path)\n",
        "\n",
        "# Display the model summary\n",
        "model.summary()\n"
      ],
      "outputs": [],
      "execution_count": null
    },
    {
      "cell_type": "code",
      "metadata": {
        "colab": {
          "base_uri": "https://localhost:8080/"
        },
        "id": "Hu1KdjpuNdH4",
        "outputId": "835c67a3-0a87-4570-92c4-8d1470cda48e"
      },
      "source": [
        "from tensorflow.keras.optimizers import Adam,SGD # type: ignore\n",
        "\n",
        "optimizer = Adam(learning_rate=0.00001)  # Try a lower value like 0.00001 or higher like 0.001\n",
        "\n",
        "model.compile(optimizer=optimizer,\n",
        "              loss='sparse_categorical_crossentropy',\n",
        "              metrics=['accuracy'])\n",
        "\n",
        "# Evaluate on training data\n",
        "train_loss, train_accuracy = model.evaluate(train_dataset, verbose=0)\n",
        "print(f\"Training Accuracy: {train_accuracy}\")\n",
        "\n",
        "# Evaluate on validation data\n",
        "val_loss, val_accuracy = model.evaluate(test_dataset, verbose=0)\n",
        "print(f\"Validation Accuracy: {val_accuracy}\")\n",
        "\n"
      ],
      "outputs": [
        {
          "output_type": "stream",
          "name": "stdout",
          "text": [
            "Training Accuracy: 0.9677419066429138\n",
            "Validation Accuracy: 0.9317535758018494\n"
          ]
        }
      ],
      "execution_count": 10
    },
    {
      "cell_type": "code",
      "metadata": {
        "colab": {
          "base_uri": "https://localhost:8080/"
        },
        "id": "Esol7vNAlXtz",
        "outputId": "07e89760-ecc1-4ba3-af83-1b9f98ef9fb1"
      },
      "source": [
        "print(f\"accuracy loss: {train_loss}\")\n",
        "print(f\"Validation loss: {val_loss}\")"
      ],
      "outputs": [
        {
          "output_type": "stream",
          "name": "stdout",
          "text": [
            "accuracy loss: 0.1175461858510971\n",
            "Validation loss: 0.2209583818912506\n"
          ]
        }
      ],
      "execution_count": 11
    },
    {
      "cell_type": "code",
      "metadata": {
        "colab": {
          "base_uri": "https://localhost:8080/"
        },
        "id": "BCKyDNJ8NOG7",
        "outputId": "f7058cc7-38b4-48f7-89f8-07dc3352e8cb"
      },
      "source": [
        "from keras.models import load_model\n",
        "import tensorflow as tf\n",
        "from sklearn.metrics import precision_score, recall_score, classification_report, confusion_matrix\n",
        "import numpy as np\n",
        "\n",
        "# Step 1: Load your saved model\n",
        "#model = tf.keras.models.load_model('/content/drive/MyDrive/lastOutcome.h5')\n",
        "\n",
        "# Step 2: Recompile the model with the same settings\n",
        "# model.compile(optimizer='SGD',\n",
        "#               loss='sparse_categorical_crossentropy',\n",
        "#               metrics=['accuracy'])\n",
        "\n",
        "# Step 3: Define test dataset (if not already defined)\n",
        "# Ensure test_dataset is properly loaded, for example:\n",
        "# test_datagen = ImageDataGenerator(rescale=1./255)\n",
        "# test_dataset = test_datagen.flow_from_directory('path_to_test_directory', ...)\n",
        "\n",
        "# Step 4: Make predictions on the validation dataset\n",
        "y_true = []\n",
        "y_pred = []\n",
        "\n",
        "# Iterate through the validation dataset and collect predictions and true labels\n",
        "for images, labels in test_dataset:  # Assuming test_dataset is already batched\n",
        "    predictions = model.predict(images)\n",
        "\n",
        "    # Collect true labels (assumed to be integer-encoded)\n",
        "    y_true.extend(labels.numpy())  # Convert TensorFlow tensor to numpy array\n",
        "\n",
        "    # Collect predicted labels\n",
        "    y_pred.extend(np.argmax(predictions, axis=1))  # Predicted labels\n",
        "\n",
        "# Step 5: Define class names\n",
        "class_names = ['Cataract', 'Glaucoma', 'Normal', 'DR']\n",
        "\n",
        "# Step 6: Calculate Precision and Recall\n",
        "precision = precision_score(y_true, y_pred, average='macro')\n",
        "recall = recall_score(y_true, y_pred, average='macro')\n",
        "\n",
        "print(f\"Precision: {precision}\")\n",
        "print(f\"Recall: {recall}\")\n",
        "\n",
        "# Step 7: Print Classification Report and Confusion Matrix\n",
        "print(\"Classification Report:\")\n",
        "print(classification_report(y_true, y_pred, target_names=class_names))\n",
        "\n",
        "conf_matrix = confusion_matrix(y_true, y_pred)\n",
        "print(\"Confusion Matrix:\")\n",
        "print(conf_matrix)\n",
        "\n"
      ],
      "outputs": [
        {
          "output_type": "stream",
          "name": "stdout",
          "text": [
            "\u001b[1m1/1\u001b[0m \u001b[32m━━━━━━━━━━━━━━━━━━━━\u001b[0m\u001b[37m\u001b[0m \u001b[1m21s\u001b[0m 21s/step\n",
            "\u001b[1m1/1\u001b[0m \u001b[32m━━━━━━━━━━━━━━━━━━━━\u001b[0m\u001b[37m\u001b[0m \u001b[1m0s\u001b[0m 158ms/step\n",
            "\u001b[1m1/1\u001b[0m \u001b[32m━━━━━━━━━━━━━━━━━━━━\u001b[0m\u001b[37m\u001b[0m \u001b[1m0s\u001b[0m 143ms/step\n",
            "\u001b[1m1/1\u001b[0m \u001b[32m━━━━━━━━━━━━━━━━━━━━\u001b[0m\u001b[37m\u001b[0m \u001b[1m0s\u001b[0m 119ms/step\n",
            "\u001b[1m1/1\u001b[0m \u001b[32m━━━━━━━━━━━━━━━━━━━━\u001b[0m\u001b[37m\u001b[0m \u001b[1m0s\u001b[0m 118ms/step\n",
            "\u001b[1m1/1\u001b[0m \u001b[32m━━━━━━━━━━━━━━━━━━━━\u001b[0m\u001b[37m\u001b[0m \u001b[1m0s\u001b[0m 118ms/step\n",
            "\u001b[1m1/1\u001b[0m \u001b[32m━━━━━━━━━━━━━━━━━━━━\u001b[0m\u001b[37m\u001b[0m \u001b[1m0s\u001b[0m 123ms/step\n",
            "\u001b[1m1/1\u001b[0m \u001b[32m━━━━━━━━━━━━━━━━━━━━\u001b[0m\u001b[37m\u001b[0m \u001b[1m0s\u001b[0m 114ms/step\n",
            "\u001b[1m1/1\u001b[0m \u001b[32m━━━━━━━━━━━━━━━━━━━━\u001b[0m\u001b[37m\u001b[0m \u001b[1m0s\u001b[0m 117ms/step\n",
            "\u001b[1m1/1\u001b[0m \u001b[32m━━━━━━━━━━━━━━━━━━━━\u001b[0m\u001b[37m\u001b[0m \u001b[1m0s\u001b[0m 114ms/step\n",
            "\u001b[1m1/1\u001b[0m \u001b[32m━━━━━━━━━━━━━━━━━━━━\u001b[0m\u001b[37m\u001b[0m \u001b[1m0s\u001b[0m 116ms/step\n",
            "\u001b[1m1/1\u001b[0m \u001b[32m━━━━━━━━━━━━━━━━━━━━\u001b[0m\u001b[37m\u001b[0m \u001b[1m0s\u001b[0m 115ms/step\n",
            "\u001b[1m1/1\u001b[0m \u001b[32m━━━━━━━━━━━━━━━━━━━━\u001b[0m\u001b[37m\u001b[0m \u001b[1m0s\u001b[0m 115ms/step\n",
            "\u001b[1m1/1\u001b[0m \u001b[32m━━━━━━━━━━━━━━━━━━━━\u001b[0m\u001b[37m\u001b[0m \u001b[1m0s\u001b[0m 118ms/step\n",
            "\u001b[1m1/1\u001b[0m \u001b[32m━━━━━━━━━━━━━━━━━━━━\u001b[0m\u001b[37m\u001b[0m \u001b[1m0s\u001b[0m 116ms/step\n",
            "\u001b[1m1/1\u001b[0m \u001b[32m━━━━━━━━━━━━━━━━━━━━\u001b[0m\u001b[37m\u001b[0m \u001b[1m0s\u001b[0m 114ms/step\n",
            "\u001b[1m1/1\u001b[0m \u001b[32m━━━━━━━━━━━━━━━━━━━━\u001b[0m\u001b[37m\u001b[0m \u001b[1m0s\u001b[0m 116ms/step\n",
            "\u001b[1m1/1\u001b[0m \u001b[32m━━━━━━━━━━━━━━━━━━━━\u001b[0m\u001b[37m\u001b[0m \u001b[1m0s\u001b[0m 116ms/step\n",
            "\u001b[1m1/1\u001b[0m \u001b[32m━━━━━━━━━━━━━━━━━━━━\u001b[0m\u001b[37m\u001b[0m \u001b[1m0s\u001b[0m 117ms/step\n",
            "\u001b[1m1/1\u001b[0m \u001b[32m━━━━━━━━━━━━━━━━━━━━\u001b[0m\u001b[37m\u001b[0m \u001b[1m0s\u001b[0m 117ms/step\n",
            "\u001b[1m1/1\u001b[0m \u001b[32m━━━━━━━━━━━━━━━━━━━━\u001b[0m\u001b[37m\u001b[0m \u001b[1m0s\u001b[0m 119ms/step\n",
            "\u001b[1m1/1\u001b[0m \u001b[32m━━━━━━━━━━━━━━━━━━━━\u001b[0m\u001b[37m\u001b[0m \u001b[1m0s\u001b[0m 115ms/step\n",
            "\u001b[1m1/1\u001b[0m \u001b[32m━━━━━━━━━━━━━━━━━━━━\u001b[0m\u001b[37m\u001b[0m \u001b[1m0s\u001b[0m 115ms/step\n",
            "\u001b[1m1/1\u001b[0m \u001b[32m━━━━━━━━━━━━━━━━━━━━\u001b[0m\u001b[37m\u001b[0m \u001b[1m0s\u001b[0m 117ms/step\n",
            "\u001b[1m1/1\u001b[0m \u001b[32m━━━━━━━━━━━━━━━━━━━━\u001b[0m\u001b[37m\u001b[0m \u001b[1m0s\u001b[0m 117ms/step\n",
            "\u001b[1m1/1\u001b[0m \u001b[32m━━━━━━━━━━━━━━━━━━━━\u001b[0m\u001b[37m\u001b[0m \u001b[1m0s\u001b[0m 115ms/step\n",
            "\u001b[1m1/1\u001b[0m \u001b[32m━━━━━━━━━━━━━━━━━━━━\u001b[0m\u001b[37m\u001b[0m \u001b[1m0s\u001b[0m 117ms/step\n",
            "\u001b[1m1/1\u001b[0m \u001b[32m━━━━━━━━━━━━━━━━━━━━\u001b[0m\u001b[37m\u001b[0m \u001b[1m0s\u001b[0m 124ms/step\n",
            "\u001b[1m1/1\u001b[0m \u001b[32m━━━━━━━━━━━━━━━━━━━━\u001b[0m\u001b[37m\u001b[0m \u001b[1m0s\u001b[0m 116ms/step\n",
            "\u001b[1m1/1\u001b[0m \u001b[32m━━━━━━━━━━━━━━━━━━━━\u001b[0m\u001b[37m\u001b[0m \u001b[1m0s\u001b[0m 117ms/step\n",
            "\u001b[1m1/1\u001b[0m \u001b[32m━━━━━━━━━━━━━━━━━━━━\u001b[0m\u001b[37m\u001b[0m \u001b[1m0s\u001b[0m 117ms/step\n",
            "\u001b[1m1/1\u001b[0m \u001b[32m━━━━━━━━━━━━━━━━━━━━\u001b[0m\u001b[37m\u001b[0m \u001b[1m0s\u001b[0m 117ms/step\n",
            "\u001b[1m1/1\u001b[0m \u001b[32m━━━━━━━━━━━━━━━━━━━━\u001b[0m\u001b[37m\u001b[0m \u001b[1m19s\u001b[0m 19s/step\n",
            "Precision: 0.932204362273436\n",
            "Recall: 0.9300238335182573\n",
            "Classification Report:\n",
            "              precision    recall  f1-score   support\n",
            "\n",
            "    Cataract       0.96      0.94      0.95       259\n",
            "    Glaucoma       0.90      0.84      0.87       252\n",
            "      Normal       0.87      0.94      0.91       269\n",
            "          DR       1.00      1.00      1.00       275\n",
            "\n",
            "    accuracy                           0.93      1055\n",
            "   macro avg       0.93      0.93      0.93      1055\n",
            "weighted avg       0.93      0.93      0.93      1055\n",
            "\n",
            "Confusion Matrix:\n",
            "[[243  10   6   0]\n",
            " [  8 212  31   1]\n",
            " [  1  14 254   0]\n",
            " [  0   0   1 274]]\n"
          ]
        }
      ],
      "execution_count": 12
    },
    {
      "cell_type": "code",
      "metadata": {
        "colab": {
          "base_uri": "https://localhost:8080/"
        },
        "id": "lqSXVBvfNLfM",
        "outputId": "d492f074-c386-48bf-958f-1b50140d8fc0"
      },
      "source": [
        "# Step 4: Calculate per-class accuracy from the confusion matrix\n",
        "per_class_accuracy = conf_matrix.diagonal() / conf_matrix.sum(axis=1)\n",
        "for idx, accuracy in enumerate(per_class_accuracy):\n",
        "    print(f\"Accuracy for class {class_names[idx]}: {accuracy:.4f}\")\n"
      ],
      "outputs": [
        {
          "output_type": "stream",
          "name": "stdout",
          "text": [
            "Accuracy for class Cataract: 0.9382\n",
            "Accuracy for class Glaucoma: 0.8413\n",
            "Accuracy for class Normal: 0.9442\n",
            "Accuracy for class DR: 0.9964\n"
          ]
        }
      ],
      "execution_count": 13
    },
    {
      "cell_type": "code",
      "metadata": {
        "colab": {
          "base_uri": "https://localhost:8080/",
          "height": 782
        },
        "id": "QUY3Oi9-6YO1",
        "outputId": "52cdbe77-604a-4208-c87f-22ad535f9990"
      },
      "source": [
        "import matplotlib.pyplot as plt\n",
        "import seaborn as sns\n",
        "import numpy as np\n",
        "\n",
        "\n",
        "\n",
        "\n",
        "normalized_conf_matrix = conf_matrix.astype('float') / conf_matrix.sum(axis=1)[:, np.newaxis] * 100\n",
        "\n",
        "# Create a new matrix with both counts and percentages for annotations\n",
        "annot_matrix = np.array([[f\"{count}\\n({percent:.0f}%)\" for count, percent in zip(row, norm_row)]\n",
        "                         for row, norm_row in zip(conf_matrix, normalized_conf_matrix)])\n",
        "\n",
        "\n",
        "# Step 2: Create the plot\n",
        "plt.figure(figsize=(10, 8))\n",
        "ax = sns.heatmap(conf_matrix, annot=annot_matrix, fmt=\"\", cmap='Oranges',\n",
        "                 xticklabels=class_names, yticklabels=class_names, cbar=True,annot_kws={\"size\": 16})\n",
        "\n",
        "\n",
        "\n",
        "# Add labels and title\n",
        "plt.xlabel('Predicted Labels', fontsize=16)\n",
        "plt.ylabel('True Labels', fontsize=16)\n",
        "#plt.title('Confusion Matrix (Sample Counts & Percentage)', fontsize=16)\n",
        "plt.xticks(rotation=0)\n",
        "plt.yticks(rotation=0)\n",
        "\n",
        "# Display the plot\n",
        "plt.tight_layout()\n",
        "plt.show()\n"
      ],
      "outputs": [
        {
          "output_type": "display_data",
          "data": {
            "text/plain": [
              "<Figure size 1000x800 with 2 Axes>"
            ],
            "image/png": "[encoded data removed]"
          },
          "metadata": {}
        }
      ],
      "execution_count": 14
    },
    {
      "cell_type": "code",
      "metadata": {
        "colab": {
          "base_uri": "https://localhost:8080/",
          "height": 790
        },
        "id": "IludCr37-zeJ",
        "outputId": "ebb0675f-8822-40fe-efa1-6b1d0eec3614"
      },
      "source": [
        "from sklearn.metrics import roc_curve, auc\n",
        "import matplotlib.pyplot as plt\n",
        "import numpy as np\n",
        "\n",
        "# Step 1: Get the true labels and predicted probabilities\n",
        "y_prob = model.predict(test_dataset)  # Predicted probabilities\n",
        "y_true = []  # True labels\n",
        "\n",
        "# Collect true labels from the test dataset\n",
        "for _, labels in test_dataset:\n",
        "    y_true.extend(labels.numpy())\n",
        "y_true = np.array(y_true)\n",
        "\n",
        "# Step 2: Calculate AUC for each class and store it\n",
        "roc_aucs = []\n",
        "plt.figure(figsize=(10, 8))\n",
        "\n",
        "for i, class_name in enumerate(class_names):\n",
        "    # Binary relevance for class i\n",
        "    fpr, tpr, _ = roc_curve(y_true == i, y_prob[:, i])\n",
        "    roc_auc = auc(fpr, tpr)\n",
        "    roc_aucs.append(roc_auc)\n",
        "\n",
        "    # Plot ROC curve for the class\n",
        "    plt.plot(fpr, tpr, label=f\"{class_name} (AUC = {roc_auc:.2f})\")\n",
        "\n",
        "# Step 3: Add diagonal reference line\n",
        "plt.plot([0, 1], [0, 1], 'k--', label=\"Random Classifier\")\n",
        "\n",
        "# Step 4: Add labels, title, and legend\n",
        "plt.xlabel(\"False Positive Rate (FPR)\", fontsize=14)\n",
        "plt.ylabel(\"True Positive Rate (TPR)\", fontsize=14)\n",
        "#plt.title(\"ROC Curve - MultiClass Classification\", fontsize=18)\n",
        "plt.legend(loc=\"lower right\", fontsize=12)\n",
        "plt.grid(alpha=0.4)\n",
        "plt.tight_layout()\n",
        "plt.show()\n",
        "\n",
        "# Step 5: Calculate Final AUC Metrics\n",
        "macro_avg_auc = np.mean(roc_aucs)  # Macro-averaged AUC\n",
        "weights = [np.sum(y_true == i) for i in range(len(class_names))]\n",
        "weighted_avg_auc = np.average(roc_aucs, weights=weights)  # Weighted-averaged AUC\n",
        "\n",
        "print(f\"Macro-Averaged AUC: {macro_avg_auc:.4f}\")\n",
        "print(f\"Weighted-Averaged AUC: {weighted_avg_auc:.4f}\")\n"
      ],
      "outputs": [
        {
          "output_type": "stream",
          "name": "stdout",
          "text": [
            "\u001b[1m33/33\u001b[0m \u001b[32m━━━━━━━━━━━━━━━━━━━━\u001b[0m\u001b[37m\u001b[0m \u001b[1m43s\u001b[0m 645ms/step\n"
          ]
        },
        {
          "output_type": "display_data",
          "data": {
            "text/plain": [
              "<Figure size 1000x800 with 1 Axes>"
            ],
            "image/png": "[encoded data removed]"
          },
          "metadata": {}
        },
        {
          "output_type": "stream",
          "name": "stdout",
          "text": [
            "Macro-Averaged AUC: 0.9871\n",
            "Weighted-Averaged AUC: 0.9873\n"
          ]
        }
      ],
      "execution_count": 15
    },
    {
      "cell_type": "code",
      "source": [
        "from sklearn.metrics import classification_report, roc_auc_score\n",
        "import pandas as pd\n",
        "import numpy as np\n",
        "\n",
        "# Step 4: Collect all predictions and true labels\n",
        "y_true = []\n",
        "y_pred = []\n",
        "y_prob = []  # To store probabilities for AUC\n",
        "\n",
        "# Iterate through the validation dataset and collect predictions and true labels\n",
        "for images, labels in test_dataset:  # Assuming test_dataset is already batched\n",
        "    predictions = model.predict(images)\n",
        "\n",
        "    # Collect true labels (assumed to be integer-encoded)\n",
        "    y_true.extend(labels.numpy())  # Convert TensorFlow tensor to numpy array\n",
        "\n",
        "    # Collect predicted labels and probabilities\n",
        "    y_pred.extend(np.argmax(predictions, axis=1))  # Predicted labels\n",
        "    y_prob.extend(predictions)  # Store the raw probabilities for AUC\n",
        "\n",
        "# Convert to numpy arrays for easier handling\n",
        "y_true = np.array(y_true)\n",
        "y_pred = np.array(y_pred)\n",
        "y_prob = np.array(y_prob)\n",
        "\n",
        "# Step 5: Calculate AUC for each class\n",
        "auc_scores = {}\n",
        "for i, class_name in enumerate(class_names):\n",
        "    auc = roc_auc_score(y_true == i, y_prob[:, i])\n",
        "    auc_scores[class_name] = auc\n",
        "\n",
        "# Step 6: Get the classification report as a dictionary\n",
        "report_dict = classification_report(y_true, y_pred, target_names=class_names, output_dict=True)\n",
        "\n",
        "# Extract precision, recall, and f1 score from the classification report\n",
        "\n",
        "metrics = {\n",
        "    'class': class_names,\n",
        "    'precision': [report_dict[class_name]['precision'] for class_name in class_names],\n",
        "    'recall': [report_dict[class_name]['recall'] for class_name in class_names],\n",
        "    'f1-score': [report_dict[class_name]['f1-score'] for class_name in class_names],\n",
        "    'AUC': [auc_scores[class_name] for class_name in class_names]\n",
        "}\n",
        "\n",
        "# Convert to DataFrame for better formatting\n",
        "df_metrics = pd.DataFrame(metrics)\n",
        "\n",
        "# Display the table\n",
        "print(df_metrics)\n"
      ],
      "metadata": {
        "colab": {
          "base_uri": "https://localhost:8080/"
        },
        "id": "x_-8eDY-_Co4",
        "outputId": "8a83dcc3-6b3a-41b9-ac6d-f85343fc71da"
      },
      "outputs": [
        {
          "output_type": "stream",
          "name": "stdout",
          "text": [
            "\u001b[1m1/1\u001b[0m \u001b[32m━━━━━━━━━━━━━━━━━━━━\u001b[0m\u001b[37m\u001b[0m \u001b[1m0s\u001b[0m 173ms/step\n",
            "\u001b[1m1/1\u001b[0m \u001b[32m━━━━━━━━━━━━━━━━━━━━\u001b[0m\u001b[37m\u001b[0m \u001b[1m0s\u001b[0m 142ms/step\n",
            "\u001b[1m1/1\u001b[0m \u001b[32m━━━━━━━━━━━━━━━━━━━━\u001b[0m\u001b[37m\u001b[0m \u001b[1m0s\u001b[0m 129ms/step\n",
            "\u001b[1m1/1\u001b[0m \u001b[32m━━━━━━━━━━━━━━━━━━━━\u001b[0m\u001b[37m\u001b[0m \u001b[1m0s\u001b[0m 118ms/step\n",
            "\u001b[1m1/1\u001b[0m \u001b[32m━━━━━━━━━━━━━━━━━━━━\u001b[0m\u001b[37m\u001b[0m \u001b[1m0s\u001b[0m 117ms/step\n",
            "\u001b[1m1/1\u001b[0m \u001b[32m━━━━━━━━━━━━━━━━━━━━\u001b[0m\u001b[37m\u001b[0m \u001b[1m0s\u001b[0m 119ms/step\n",
            "\u001b[1m1/1\u001b[0m \u001b[32m━━━━━━━━━━━━━━━━━━━━\u001b[0m\u001b[37m\u001b[0m \u001b[1m0s\u001b[0m 122ms/step\n",
            "\u001b[1m1/1\u001b[0m \u001b[32m━━━━━━━━━━━━━━━━━━━━\u001b[0m\u001b[37m\u001b[0m \u001b[1m0s\u001b[0m 117ms/step\n",
            "\u001b[1m1/1\u001b[0m \u001b[32m━━━━━━━━━━━━━━━━━━━━\u001b[0m\u001b[37m\u001b[0m \u001b[1m0s\u001b[0m 117ms/step\n",
            "\u001b[1m1/1\u001b[0m \u001b[32m━━━━━━━━━━━━━━━━━━━━\u001b[0m\u001b[37m\u001b[0m \u001b[1m0s\u001b[0m 122ms/step\n",
            "\u001b[1m1/1\u001b[0m \u001b[32m━━━━━━━━━━━━━━━━━━━━\u001b[0m\u001b[37m\u001b[0m \u001b[1m0s\u001b[0m 115ms/step\n",
            "\u001b[1m1/1\u001b[0m \u001b[32m━━━━━━━━━━━━━━━━━━━━\u001b[0m\u001b[37m\u001b[0m \u001b[1m0s\u001b[0m 115ms/step\n",
            "\u001b[1m1/1\u001b[0m \u001b[32m━━━━━━━━━━━━━━━━━━━━\u001b[0m\u001b[37m\u001b[0m \u001b[1m0s\u001b[0m 118ms/step\n",
            "\u001b[1m1/1\u001b[0m \u001b[32m━━━━━━━━━━━━━━━━━━━━\u001b[0m\u001b[37m\u001b[0m \u001b[1m0s\u001b[0m 116ms/step\n",
            "\u001b[1m1/1\u001b[0m \u001b[32m━━━━━━━━━━━━━━━━━━━━\u001b[0m\u001b[37m\u001b[0m \u001b[1m0s\u001b[0m 121ms/step\n",
            "\u001b[1m1/1\u001b[0m \u001b[32m━━━━━━━━━━━━━━━━━━━━\u001b[0m\u001b[37m\u001b[0m \u001b[1m0s\u001b[0m 132ms/step\n",
            "\u001b[1m1/1\u001b[0m \u001b[32m━━━━━━━━━━━━━━━━━━━━\u001b[0m\u001b[37m\u001b[0m \u001b[1m0s\u001b[0m 122ms/step\n",
            "\u001b[1m1/1\u001b[0m \u001b[32m━━━━━━━━━━━━━━━━━━━━\u001b[0m\u001b[37m\u001b[0m \u001b[1m0s\u001b[0m 119ms/step\n",
            "\u001b[1m1/1\u001b[0m \u001b[32m━━━━━━━━━━━━━━━━━━━━\u001b[0m\u001b[37m\u001b[0m \u001b[1m0s\u001b[0m 123ms/step\n",
            "\u001b[1m1/1\u001b[0m \u001b[32m━━━━━━━━━━━━━━━━━━━━\u001b[0m\u001b[37m\u001b[0m \u001b[1m0s\u001b[0m 120ms/step\n",
            "\u001b[1m1/1\u001b[0m \u001b[32m━━━━━━━━━━━━━━━━━━━━\u001b[0m\u001b[37m\u001b[0m \u001b[1m0s\u001b[0m 120ms/step\n",
            "\u001b[1m1/1\u001b[0m \u001b[32m━━━━━━━━━━━━━━━━━━━━\u001b[0m\u001b[37m\u001b[0m \u001b[1m0s\u001b[0m 121ms/step\n",
            "\u001b[1m1/1\u001b[0m \u001b[32m━━━━━━━━━━━━━━━━━━━━\u001b[0m\u001b[37m\u001b[0m \u001b[1m0s\u001b[0m 132ms/step\n",
            "\u001b[1m1/1\u001b[0m \u001b[32m━━━━━━━━━━━━━━━━━━━━\u001b[0m\u001b[37m\u001b[0m \u001b[1m0s\u001b[0m 115ms/step\n",
            "\u001b[1m1/1\u001b[0m \u001b[32m━━━━━━━━━━━━━━━━━━━━\u001b[0m\u001b[37m\u001b[0m \u001b[1m0s\u001b[0m 120ms/step\n",
            "\u001b[1m1/1\u001b[0m \u001b[32m━━━━━━━━━━━━━━━━━━━━\u001b[0m\u001b[37m\u001b[0m \u001b[1m0s\u001b[0m 119ms/step\n",
            "\u001b[1m1/1\u001b[0m \u001b[32m━━━━━━━━━━━━━━━━━━━━\u001b[0m\u001b[37m\u001b[0m \u001b[1m0s\u001b[0m 120ms/step\n",
            "\u001b[1m1/1\u001b[0m \u001b[32m━━━━━━━━━━━━━━━━━━━━\u001b[0m\u001b[37m\u001b[0m \u001b[1m0s\u001b[0m 118ms/step\n",
            "\u001b[1m1/1\u001b[0m \u001b[32m━━━━━━━━━━━━━━━━━━━━\u001b[0m\u001b[37m\u001b[0m \u001b[1m0s\u001b[0m 123ms/step\n",
            "\u001b[1m1/1\u001b[0m \u001b[32m━━━━━━━━━━━━━━━━━━━━\u001b[0m\u001b[37m\u001b[0m \u001b[1m0s\u001b[0m 117ms/step\n",
            "\u001b[1m1/1\u001b[0m \u001b[32m━━━━━━━━━━━━━━━━━━━━\u001b[0m\u001b[37m\u001b[0m \u001b[1m0s\u001b[0m 120ms/step\n",
            "\u001b[1m1/1\u001b[0m \u001b[32m━━━━━━━━━━━━━━━━━━━━\u001b[0m\u001b[37m\u001b[0m \u001b[1m0s\u001b[0m 117ms/step\n",
            "\u001b[1m1/1\u001b[0m \u001b[32m━━━━━━━━━━━━━━━━━━━━\u001b[0m\u001b[37m\u001b[0m \u001b[1m0s\u001b[0m 122ms/step\n",
            "      class  precision    recall  f1-score       AUC\n",
            "0  Cataract   0.964286  0.938224  0.951076  0.993369\n",
            "1  Glaucoma   0.898305  0.841270  0.868852  0.972805\n",
            "2    Normal   0.869863  0.944238  0.905526  0.982690\n",
            "3        DR   0.996364  0.996364  0.996364  0.999548\n"
          ]
        }
      ],
      "execution_count": 16
    }
  ],
  "metadata": {
    "accelerator": "GPU",
    "colab": {
      "gpuType": "T4",
      "provenance": []
    },
    "kernelspec": {
      "display_name": "Python 3 (ipykernel)",
      "name": "python3",
      "language": "python"
    },
    "language_info": {
      "name": "python"
    }
  },
  "nbformat": 4,
  "nbformat_minor": 0
}